{
 "cells": [
  {
   "cell_type": "markdown",
   "id": "507e37cd",
   "metadata": {},
   "source": [
    "# Conditional Statement"
   ]
  },
  {
   "cell_type": "markdown",
   "id": "071cf124",
   "metadata": {},
   "source": [
    "if, if else, nested if, ladder if"
   ]
  },
  {
   "cell_type": "code",
   "execution_count": 8,
   "id": "5d42700e",
   "metadata": {},
   "outputs": [
    {
     "name": "stdout",
     "output_type": "stream",
     "text": [
      "a is greater than b\n"
     ]
    }
   ],
   "source": [
    "#simple if\n",
    "a=5\n",
    "b=3\n",
    "if (a>b):\n",
    "    print('a is greater than b')"
   ]
  },
  {
   "cell_type": "code",
   "execution_count": null,
   "id": "cd8a3e3b",
   "metadata": {},
   "outputs": [],
   "source": []
  },
  {
   "cell_type": "code",
   "execution_count": 6,
   "id": "b167bc68",
   "metadata": {},
   "outputs": [
    {
     "name": "stdout",
     "output_type": "stream",
     "text": [
      "Enter your Roll No.\n"
     ]
    }
   ],
   "source": [
    "print('Enter your Roll No.')"
   ]
  },
  {
   "cell_type": "code",
   "execution_count": 7,
   "id": "a7dbf327",
   "metadata": {},
   "outputs": [
    {
     "name": "stdout",
     "output_type": "stream",
     "text": [
      "38\n",
      "Your Roll No. is 38\n"
     ]
    }
   ],
   "source": [
    "x=input()\n",
    "print('Your Roll No. is ' +x)"
   ]
  },
  {
   "cell_type": "code",
   "execution_count": 5,
   "id": "c49f4de1",
   "metadata": {},
   "outputs": [
    {
     "name": "stdout",
     "output_type": "stream",
     "text": [
      "a is less than b\n"
     ]
    }
   ],
   "source": [
    "#if else\n",
    "a=3\n",
    "b=5\n",
    "if (a<b):\n",
    "    print('a is less than b')\n",
    "else:\n",
    "    print('a is greater than b')"
   ]
  },
  {
   "cell_type": "code",
   "execution_count": 15,
   "id": "f34108f4",
   "metadata": {},
   "outputs": [
    {
     "name": "stdout",
     "output_type": "stream",
     "text": [
      "Enter the value of a\n",
      "None46\n",
      "Enter the value of b\n",
      "None35\n",
      "a is greater than b, 46\n"
     ]
    }
   ],
   "source": [
    "#if else (user defined)\n",
    "a=int(input(print('Enter the value of a')))\n",
    "b=int(input(print('Enter the value of b')))\n",
    "if(a>b):\n",
    "    print('a is greater than b,',a)\n",
    "else:\n",
    "    print('b is less than a,',b)"
   ]
  },
  {
   "cell_type": "code",
   "execution_count": null,
   "id": "afad11ca",
   "metadata": {},
   "outputs": [],
   "source": []
  }
 ],
 "metadata": {
  "kernelspec": {
   "display_name": "Python 3 (ipykernel)",
   "language": "python",
   "name": "python3"
  },
  "language_info": {
   "codemirror_mode": {
    "name": "ipython",
    "version": 3
   },
   "file_extension": ".py",
   "mimetype": "text/x-python",
   "name": "python",
   "nbconvert_exporter": "python",
   "pygments_lexer": "ipython3",
   "version": "3.10.6"
  }
 },
 "nbformat": 4,
 "nbformat_minor": 5
}
