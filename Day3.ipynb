{
 "cells": [
  {
   "cell_type": "code",
   "execution_count": 1,
   "id": "bfae10b9",
   "metadata": {},
   "outputs": [],
   "source": [
    "#membership opereator\n",
    "x='Ashish'"
   ]
  },
  {
   "cell_type": "code",
   "execution_count": 6,
   "id": "396433d5",
   "metadata": {},
   "outputs": [],
   "source": [
    "y='A'"
   ]
  },
  {
   "cell_type": "code",
   "execution_count": 7,
   "id": "f9317abf",
   "metadata": {},
   "outputs": [
    {
     "name": "stdout",
     "output_type": "stream",
     "text": [
      "True\n"
     ]
    }
   ],
   "source": [
    "print(y in x)"
   ]
  },
  {
   "cell_type": "code",
   "execution_count": 8,
   "id": "d82f4b28",
   "metadata": {},
   "outputs": [
    {
     "name": "stdout",
     "output_type": "stream",
     "text": [
      "False\n"
     ]
    }
   ],
   "source": [
    "print(y not in x)"
   ]
  },
  {
   "cell_type": "code",
   "execution_count": null,
   "id": "8941b5a0",
   "metadata": {},
   "outputs": [],
   "source": []
  }
 ],
 "metadata": {
  "kernelspec": {
   "display_name": "Python 3 (ipykernel)",
   "language": "python",
   "name": "python3"
  },
  "language_info": {
   "codemirror_mode": {
    "name": "ipython",
    "version": 3
   },
   "file_extension": ".py",
   "mimetype": "text/x-python",
   "name": "python",
   "nbconvert_exporter": "python",
   "pygments_lexer": "ipython3",
   "version": "3.10.6"
  }
 },
 "nbformat": 4,
 "nbformat_minor": 5
}
