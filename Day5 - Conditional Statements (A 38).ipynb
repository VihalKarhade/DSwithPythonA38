{
 "cells": [
  {
   "cell_type": "markdown",
   "id": "73afd03b",
   "metadata": {},
   "source": [
    "# Conditional Statement"
   ]
  },
  {
   "cell_type": "markdown",
   "id": "c96f9a21",
   "metadata": {},
   "source": [
    "if, if else, nested if, ladder if"
   ]
  },
  {
   "cell_type": "code",
   "execution_count": 2,
   "id": "7fd134c4",
   "metadata": {},
   "outputs": [
    {
     "name": "stdout",
     "output_type": "stream",
     "text": [
      "a is greater than b\n"
     ]
    }
   ],
   "source": [
    "#simple if\n",
    "a=5\n",
    "b=3\n",
    "if (a>b):\n",
    "    print('a is greater than b')"
   ]
  },
  {
   "cell_type": "code",
   "execution_count": 4,
   "id": "19a2952f",
   "metadata": {},
   "outputs": [
    {
     "name": "stdout",
     "output_type": "stream",
     "text": [
      "Enter your Name\n"
     ]
    }
   ],
   "source": [
    "print('Enter your Roll No.)"
   ]
  },
  {
   "cell_type": "code",
   "execution_count": null,
   "id": "8a71ecad",
   "metadata": {},
   "outputs": [],
   "source": [
    "x=input()\n",
    "print('Your Roll No. is', +x)"
   ]
  },
  {
   "cell_type": "code",
   "execution_count": null,
   "id": "5fa3d29d",
   "metadata": {},
   "outputs": [],
   "source": []
  },
  {
   "cell_type": "code",
   "execution_count": null,
   "id": "f48a76e0",
   "metadata": {},
   "outputs": [],
   "source": [
    "a=3\n",
    "b=5\n",
    "if (a<b):\n",
    "    print('a is less than b')\n",
    "else:\n",
    "    print('a is greater than b')"
   ]
  },
  {
   "cell_type": "code",
   "execution_count": null,
   "id": "03cfe1dd",
   "metadata": {},
   "outputs": [],
   "source": []
  }
 ],
 "metadata": {
  "kernelspec": {
   "display_name": "Python 3 (ipykernel)",
   "language": "python",
   "name": "python3"
  },
  "language_info": {
   "codemirror_mode": {
    "name": "ipython",
    "version": 3
   },
   "file_extension": ".py",
   "mimetype": "text/x-python",
   "name": "python",
   "nbconvert_exporter": "python",
   "pygments_lexer": "ipython3",
   "version": "3.10.6"
  }
 },
 "nbformat": 4,
 "nbformat_minor": 5
}
