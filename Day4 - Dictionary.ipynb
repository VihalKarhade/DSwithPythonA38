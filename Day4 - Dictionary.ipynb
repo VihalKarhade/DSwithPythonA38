{
 "cells": [
  {
   "cell_type": "markdown",
   "id": "cb2c26a2",
   "metadata": {},
   "source": [
    "# Dictionaary\n"
   ]
  },
  {
   "cell_type": "markdown",
   "id": "a78f50b4",
   "metadata": {},
   "source": [
    "Dictionary is a part of Data Structure"
   ]
  },
  {
   "cell_type": "code",
   "execution_count": 1,
   "id": "ebbdfd10",
   "metadata": {},
   "outputs": [],
   "source": [
    "d={'Ashish':10, 'Vihal':38, 'Rohit':18, 'Kaushal':10}"
   ]
  },
  {
   "cell_type": "code",
   "execution_count": 2,
   "id": "84c35d76",
   "metadata": {},
   "outputs": [
    {
     "data": {
      "text/plain": [
       "dict"
      ]
     },
     "execution_count": 2,
     "metadata": {},
     "output_type": "execute_result"
    }
   ],
   "source": [
    "type(d)"
   ]
  },
  {
   "cell_type": "code",
   "execution_count": 3,
   "id": "969a84cd",
   "metadata": {},
   "outputs": [
    {
     "data": {
      "text/plain": [
       "4"
      ]
     },
     "execution_count": 3,
     "metadata": {},
     "output_type": "execute_result"
    }
   ],
   "source": [
    "len(d)"
   ]
  },
  {
   "cell_type": "code",
   "execution_count": 4,
   "id": "4ccee59f",
   "metadata": {},
   "outputs": [
    {
     "name": "stdout",
     "output_type": "stream",
     "text": [
      "{'Ashish': 10, 'Vihal': 38, 'Rohit': 18, 'Kaushal': 10}\n"
     ]
    }
   ],
   "source": [
    "print(d)"
   ]
  },
  {
   "cell_type": "code",
   "execution_count": 5,
   "id": "28482176",
   "metadata": {},
   "outputs": [
    {
     "data": {
      "text/plain": [
       "{'Ashish': 10, 'Vihal': 38, 'Rohit': 18, 'Kaushal': 10}"
      ]
     },
     "execution_count": 5,
     "metadata": {},
     "output_type": "execute_result"
    }
   ],
   "source": [
    "d\n",
    "#display"
   ]
  },
  {
   "cell_type": "code",
   "execution_count": 10,
   "id": "55e8d1d0",
   "metadata": {},
   "outputs": [
    {
     "data": {
      "text/plain": [
       "dict_keys(['Ashish', 'Vihal', 'Rohit', 'Kaushal'])"
      ]
     },
     "execution_count": 10,
     "metadata": {},
     "output_type": "execute_result"
    }
   ],
   "source": [
    "#Extracting the key from dictionary\n",
    "d={'Ashish':10, 'Vihal':38, 'Rohit':18, 'Kaushal':10}\n",
    "d.keys()"
   ]
  },
  {
   "cell_type": "code",
   "execution_count": 11,
   "id": "4438a9fb",
   "metadata": {},
   "outputs": [
    {
     "data": {
      "text/plain": [
       "dict_values([10, 38, 18, 10])"
      ]
     },
     "execution_count": 11,
     "metadata": {},
     "output_type": "execute_result"
    }
   ],
   "source": [
    "#Extracting the values from dictionary\n",
    "d={'Ashish':10, 'Vihal':38, 'Rohit':18, 'Kaushal':10}\n",
    "d.values()"
   ]
  },
  {
   "cell_type": "code",
   "execution_count": 13,
   "id": "d19eb1cd",
   "metadata": {},
   "outputs": [
    {
     "name": "stdout",
     "output_type": "stream",
     "text": [
      "{'Ashish': 10, 'Vihal': 38, 'Rohit': 18, 'Kaushal': 10, 'Salman': 50}\n"
     ]
    }
   ],
   "source": [
    "# Adding a new element to python dictionary\n",
    "d={'Ashish':10, 'Vihal':38, 'Rohit':18, 'Kaushal':10}\n",
    "d['Salman']=50\n",
    "print(d)"
   ]
  },
  {
   "cell_type": "code",
   "execution_count": 15,
   "id": "12eeb4a7",
   "metadata": {},
   "outputs": [
    {
     "name": "stdout",
     "output_type": "stream",
     "text": [
      "{'Ashish': 60, 'Vihal': 38, 'Rohit': 18, 'Kaushal': 10}\n"
     ]
    }
   ],
   "source": [
    "#Changing an Existing element to python dictionary\n",
    "d={'Ashish':10, 'Vihal':38, 'Rohit':18, 'Kaushal':10}\n",
    "d['Ashish']=60\n",
    "print(d)"
   ]
  },
  {
   "cell_type": "code",
   "execution_count": 16,
   "id": "256f4b31",
   "metadata": {},
   "outputs": [
    {
     "name": "stdout",
     "output_type": "stream",
     "text": [
      "{'Ashish': 10, 'Vihal': 38, 'Rohit': 18, 'Kaushal': 10}\n"
     ]
    }
   ],
   "source": [
    "#update one dictionary element with another dictionary\n",
    "d1={'Ashish':10, 'Vihal':38,}\n",
    "d2={'Rohit':18, 'Kaushal':10}\n",
    "d1.update(d2)\n",
    "print(d1)"
   ]
  },
  {
   "cell_type": "code",
   "execution_count": 17,
   "id": "9cdf8a7f",
   "metadata": {},
   "outputs": [
    {
     "name": "stdout",
     "output_type": "stream",
     "text": [
      "{'Ashish': 10, 'Rohit': 18, 'Kaushal': 10}\n"
     ]
    }
   ],
   "source": [
    "#Popping element dictionary in python\n",
    "d={'Ashish':10, 'Vihal':38, 'Rohit':18, 'Kaushal':10}\n",
    "d.pop('Vihal')\n",
    "print(d)"
   ]
  },
  {
   "cell_type": "code",
   "execution_count": 20,
   "id": "39669b47",
   "metadata": {},
   "outputs": [
    {
     "ename": "KeyError",
     "evalue": "38",
     "output_type": "error",
     "traceback": [
      "\u001b[0;31m---------------------------------------------------------------------------\u001b[0m",
      "\u001b[0;31mKeyError\u001b[0m                                  Traceback (most recent call last)",
      "Cell \u001b[0;32mIn[20], line 2\u001b[0m\n\u001b[1;32m      1\u001b[0m d\u001b[38;5;241m=\u001b[39m{\u001b[38;5;124m'\u001b[39m\u001b[38;5;124mAshish\u001b[39m\u001b[38;5;124m'\u001b[39m:\u001b[38;5;241m10\u001b[39m, \u001b[38;5;124m'\u001b[39m\u001b[38;5;124mVihal\u001b[39m\u001b[38;5;124m'\u001b[39m:\u001b[38;5;241m38\u001b[39m, \u001b[38;5;124m'\u001b[39m\u001b[38;5;124mRohit\u001b[39m\u001b[38;5;124m'\u001b[39m:\u001b[38;5;241m18\u001b[39m, \u001b[38;5;124m'\u001b[39m\u001b[38;5;124mKaushal\u001b[39m\u001b[38;5;124m'\u001b[39m:\u001b[38;5;241m10\u001b[39m}\n\u001b[0;32m----> 2\u001b[0m \u001b[43md\u001b[49m\u001b[38;5;241;43m.\u001b[39;49m\u001b[43mpop\u001b[49m\u001b[43m(\u001b[49m\u001b[38;5;241;43m38\u001b[39;49m\u001b[43m)\u001b[49m\n\u001b[1;32m      3\u001b[0m \u001b[38;5;28mprint\u001b[39m(d)\n",
      "\u001b[0;31mKeyError\u001b[0m: 38"
     ]
    }
   ],
   "source": [
    "d={'Ashish':10, 'Vihal':38, 'Rohit':18, 'Kaushal':10}\n",
    "d.pop(38)\n",
    "print(d)"
   ]
  },
  {
   "cell_type": "code",
   "execution_count": null,
   "id": "f039477f",
   "metadata": {},
   "outputs": [],
   "source": []
  }
 ],
 "metadata": {
  "kernelspec": {
   "display_name": "Python 3 (ipykernel)",
   "language": "python",
   "name": "python3"
  },
  "language_info": {
   "codemirror_mode": {
    "name": "ipython",
    "version": 3
   },
   "file_extension": ".py",
   "mimetype": "text/x-python",
   "name": "python",
   "nbconvert_exporter": "python",
   "pygments_lexer": "ipython3",
   "version": "3.10.6"
  }
 },
 "nbformat": 4,
 "nbformat_minor": 5
}
